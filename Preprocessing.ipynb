{
 "cells": [
  {
   "cell_type": "code",
   "execution_count": 46,
   "metadata": {
    "tags": []
   },
   "outputs": [],
   "source": [
    "import pandas as pd"
   ]
  },
  {
   "cell_type": "code",
   "execution_count": 47,
   "metadata": {},
   "outputs": [
    {
     "output_type": "execute_result",
     "data": {
      "text/plain": "                                             Address  \\\n0  48, JLN 8/7, PUNCAK SEPUTEH, 79328 JEMENTAH, J...   \n1  LOT 9, JALAN 6J, PJS33, 15958 RANTAU PANJANG, ...   \n2  G-42-10, JLN 1/76D, DESA GEMBIRA, 93888 DARO, ...   \n3  LOT 31, JALAN 4/4Y, USJ 85, 77198 TANJUNG BIDA...   \n4  NO. L-31-45, JALAN 8Z, BANDAR MULIA, 87025 BAT...   \n\n                                               Name        Sex Religion  \\\n0   NUR NOORFARZANAH BINTI WAN FADZIRUDDIN DOLKEFLI  PEREMPUAN    ISLAM   \n1          NUR HJH SUHANA BINTI NIK KAMARUDIN HASIF  PEREMPUAN    ISLAM   \n2                                         D. S. ASH     LELAKI      NaN   \n3  MUHAMMED NIK BASIRAN KASTURI BIN SARWATI GARAPAR     LELAKI    ISLAM   \n4                 ANAND A/L KUNJIRAMAN SEENIVASAGAM  PEREMPUAN      NaN   \n\n             NRIC             Back_NRIC  \n0  860903-13-2306  860903-13-2306-02-01  \n1  780716-29-7456  780716-29-7456-06-01  \n2  930108-03-9789  930108-03-9789-00-01  \n3  760305-34-9365  760305-34-9365-04-01  \n4  731216-30-8010  731216-30-8010-02-01  ",
      "text/html": "<div>\n<style scoped>\n    .dataframe tbody tr th:only-of-type {\n        vertical-align: middle;\n    }\n\n    .dataframe tbody tr th {\n        vertical-align: top;\n    }\n\n    .dataframe thead th {\n        text-align: right;\n    }\n</style>\n<table border=\"1\" class=\"dataframe\">\n  <thead>\n    <tr style=\"text-align: right;\">\n      <th></th>\n      <th>Address</th>\n      <th>Name</th>\n      <th>Sex</th>\n      <th>Religion</th>\n      <th>NRIC</th>\n      <th>Back_NRIC</th>\n    </tr>\n  </thead>\n  <tbody>\n    <tr>\n      <th>0</th>\n      <td>48, JLN 8/7, PUNCAK SEPUTEH, 79328 JEMENTAH, J...</td>\n      <td>NUR NOORFARZANAH BINTI WAN FADZIRUDDIN DOLKEFLI</td>\n      <td>PEREMPUAN</td>\n      <td>ISLAM</td>\n      <td>860903-13-2306</td>\n      <td>860903-13-2306-02-01</td>\n    </tr>\n    <tr>\n      <th>1</th>\n      <td>LOT 9, JALAN 6J, PJS33, 15958 RANTAU PANJANG, ...</td>\n      <td>NUR HJH SUHANA BINTI NIK KAMARUDIN HASIF</td>\n      <td>PEREMPUAN</td>\n      <td>ISLAM</td>\n      <td>780716-29-7456</td>\n      <td>780716-29-7456-06-01</td>\n    </tr>\n    <tr>\n      <th>2</th>\n      <td>G-42-10, JLN 1/76D, DESA GEMBIRA, 93888 DARO, ...</td>\n      <td>D. S. ASH</td>\n      <td>LELAKI</td>\n      <td>NaN</td>\n      <td>930108-03-9789</td>\n      <td>930108-03-9789-00-01</td>\n    </tr>\n    <tr>\n      <th>3</th>\n      <td>LOT 31, JALAN 4/4Y, USJ 85, 77198 TANJUNG BIDA...</td>\n      <td>MUHAMMED NIK BASIRAN KASTURI BIN SARWATI GARAPAR</td>\n      <td>LELAKI</td>\n      <td>ISLAM</td>\n      <td>760305-34-9365</td>\n      <td>760305-34-9365-04-01</td>\n    </tr>\n    <tr>\n      <th>4</th>\n      <td>NO. L-31-45, JALAN 8Z, BANDAR MULIA, 87025 BAT...</td>\n      <td>ANAND A/L KUNJIRAMAN SEENIVASAGAM</td>\n      <td>PEREMPUAN</td>\n      <td>NaN</td>\n      <td>731216-30-8010</td>\n      <td>731216-30-8010-02-01</td>\n    </tr>\n  </tbody>\n</table>\n</div>"
     },
     "metadata": {},
     "execution_count": 47
    }
   ],
   "source": [
    "data = pd.read_csv(\"IC_data_with_NRIC.csv\")\n",
    "data.head()"
   ]
  },
  {
   "cell_type": "code",
   "execution_count": 48,
   "metadata": {
    "tags": []
   },
   "outputs": [
    {
     "output_type": "execute_result",
     "data": {
      "text/plain": "                                             Address  \\\n0  48, JLN 8/7, PUNCAK SEPUTEH, 79328 JEMENTAH, J...   \n1  LOT 9, JALAN 6J, PJS33, 15958 RANTAU PANJANG, ...   \n2  G-42-10, JLN 1/76D, DESA GEMBIRA, 93888 DARO, ...   \n3  LOT 31, JALAN 4/4Y, USJ 85, 77198 TANJUNG BIDA...   \n4  NO. L-31-45, JALAN 8Z, BANDAR MULIA, 87025 BAT...   \n\n                                               Name        Sex Religion  \\\n0   NUR NOORFARZANAH BINTI WAN FADZIRUDDIN DOLKEFLI  PEREMPUAN    ISLAM   \n1          NUR HJH SUHANA BINTI NIK KAMARUDIN HASIF  PEREMPUAN    ISLAM   \n2                                         D. S. ASH     LELAKI      NaN   \n3  MUHAMMED NIK BASIRAN KASTURI BIN SARWATI GARAPAR     LELAKI    ISLAM   \n4                 ANAND A/P KUNJIRAMAN SEENIVASAGAM  PEREMPUAN      NaN   \n\n             NRIC             Back_NRIC  \n0  860903-13-2306  860903-13-2306-02-01  \n1  780716-29-7456  780716-29-7456-06-01  \n2  930108-03-9789  930108-03-9789-00-01  \n3  760305-34-9365  760305-34-9365-04-01  \n4  731216-30-8010  731216-30-8010-02-01  ",
      "text/html": "<div>\n<style scoped>\n    .dataframe tbody tr th:only-of-type {\n        vertical-align: middle;\n    }\n\n    .dataframe tbody tr th {\n        vertical-align: top;\n    }\n\n    .dataframe thead th {\n        text-align: right;\n    }\n</style>\n<table border=\"1\" class=\"dataframe\">\n  <thead>\n    <tr style=\"text-align: right;\">\n      <th></th>\n      <th>Address</th>\n      <th>Name</th>\n      <th>Sex</th>\n      <th>Religion</th>\n      <th>NRIC</th>\n      <th>Back_NRIC</th>\n    </tr>\n  </thead>\n  <tbody>\n    <tr>\n      <th>0</th>\n      <td>48, JLN 8/7, PUNCAK SEPUTEH, 79328 JEMENTAH, J...</td>\n      <td>NUR NOORFARZANAH BINTI WAN FADZIRUDDIN DOLKEFLI</td>\n      <td>PEREMPUAN</td>\n      <td>ISLAM</td>\n      <td>860903-13-2306</td>\n      <td>860903-13-2306-02-01</td>\n    </tr>\n    <tr>\n      <th>1</th>\n      <td>LOT 9, JALAN 6J, PJS33, 15958 RANTAU PANJANG, ...</td>\n      <td>NUR HJH SUHANA BINTI NIK KAMARUDIN HASIF</td>\n      <td>PEREMPUAN</td>\n      <td>ISLAM</td>\n      <td>780716-29-7456</td>\n      <td>780716-29-7456-06-01</td>\n    </tr>\n    <tr>\n      <th>2</th>\n      <td>G-42-10, JLN 1/76D, DESA GEMBIRA, 93888 DARO, ...</td>\n      <td>D. S. ASH</td>\n      <td>LELAKI</td>\n      <td>NaN</td>\n      <td>930108-03-9789</td>\n      <td>930108-03-9789-00-01</td>\n    </tr>\n    <tr>\n      <th>3</th>\n      <td>LOT 31, JALAN 4/4Y, USJ 85, 77198 TANJUNG BIDA...</td>\n      <td>MUHAMMED NIK BASIRAN KASTURI BIN SARWATI GARAPAR</td>\n      <td>LELAKI</td>\n      <td>ISLAM</td>\n      <td>760305-34-9365</td>\n      <td>760305-34-9365-04-01</td>\n    </tr>\n    <tr>\n      <th>4</th>\n      <td>NO. L-31-45, JALAN 8Z, BANDAR MULIA, 87025 BAT...</td>\n      <td>ANAND A/P KUNJIRAMAN SEENIVASAGAM</td>\n      <td>PEREMPUAN</td>\n      <td>NaN</td>\n      <td>731216-30-8010</td>\n      <td>731216-30-8010-02-01</td>\n    </tr>\n  </tbody>\n</table>\n</div>"
     },
     "metadata": {},
     "execution_count": 48
    }
   ],
   "source": [
    "for i in range(len(data[\"Sex\"])):\n",
    "    if(data.iloc[i][\"Sex\"] == \"PEREMPUAN\" and \"A/L\" in data.iloc[i][\"Name\"]):\n",
    "        data.iloc[i][\"Name\"] = data.iloc[i][\"Name\"].replace(\"A/L\",\"A/P\")\n",
    "data.head()"
   ]
  },
  {
   "cell_type": "code",
   "execution_count": 49,
   "metadata": {},
   "outputs": [],
   "source": [
    "data.to_csv(\"IC_data_with_NRIC_fixed_gender_12000_rows.csv\",index=False)"
   ]
  },
  {
   "cell_type": "code",
   "execution_count": 50,
   "metadata": {},
   "outputs": [
    {
     "output_type": "execute_result",
     "data": {
      "text/plain": "                                             Address  \\\n0  48, JLN 8/7, PUNCAK SEPUTEH, 79328 JEMENTAH, J...   \n1  LOT 9, JALAN 6J, PJS33, 15958 RANTAU PANJANG, ...   \n2  G-42-10, JLN 1/76D, DESA GEMBIRA, 93888 DARO, ...   \n3  LOT 31, JALAN 4/4Y, USJ 85, 77198 TANJUNG BIDA...   \n4  NO. L-31-45, JALAN 8Z, BANDAR MULIA, 87025 BAT...   \n5  95, LORONG 5, PANDAN MUTIARA, 82393 PARIT JAWA...   \n6  NO. 2-1, JLN 3, APARTMENT BANGSAR, 08894 YAN, ...   \n7  NO. 3, JALAN SENTUL 1/10K, PJS7, 20387 KAMPUNG...   \n8  5K-71, JALAN DORAISAMY 2/24, PETALING PERMAI, ...   \n9  13, JALAN SELAMAT 5/5, TAMAN RAHMAT, 28643 MEN...   \n\n                                               Name        Sex Religion  \\\n0   NUR NOORFARZANAH BINTI WAN FADZIRUDDIN DOLKEFLI  PEREMPUAN    ISLAM   \n1          NUR HJH SUHANA BINTI NIK KAMARUDIN HASIF  PEREMPUAN    ISLAM   \n2                                         D. S. ASH     LELAKI      NaN   \n3  MUHAMMED NIK BASIRAN KASTURI BIN SARWATI GARAPAR     LELAKI    ISLAM   \n4                 ANAND A/P KUNJIRAMAN SEENIVASAGAM  PEREMPUAN      NaN   \n5                                  CHIANG QING SHOK  PEREMPUAN      NaN   \n6                                      CHA QUAY MON     LELAKI      NaN   \n7                                      SAU KHOO LER  PEREMPUAN      NaN   \n8               DEPAN RAMADASS A/L VIJANDREN PAKIAM     LELAKI      NaN   \n9                        MUHAMED NIK AMRI BIN HASBI     LELAKI    ISLAM   \n\n             NRIC             Back_NRIC  \n0  860903-13-2306  860903-13-2306-02-01  \n1  780716-29-7456  780716-29-7456-06-01  \n2  930108-03-9789  930108-03-9789-00-01  \n3  760305-34-9365  760305-34-9365-04-01  \n4  731216-30-8010  731216-30-8010-02-01  \n5  811202-22-1740  811202-22-1740-00-01  \n6  760619-04-8031  760619-04-8031-04-01  \n7  750918-40-5378  750918-40-5378-08-01  \n8  981001-39-5857  981001-39-5857-08-01  \n9  710502-12-5811  710502-12-5811-06-01  ",
      "text/html": "<div>\n<style scoped>\n    .dataframe tbody tr th:only-of-type {\n        vertical-align: middle;\n    }\n\n    .dataframe tbody tr th {\n        vertical-align: top;\n    }\n\n    .dataframe thead th {\n        text-align: right;\n    }\n</style>\n<table border=\"1\" class=\"dataframe\">\n  <thead>\n    <tr style=\"text-align: right;\">\n      <th></th>\n      <th>Address</th>\n      <th>Name</th>\n      <th>Sex</th>\n      <th>Religion</th>\n      <th>NRIC</th>\n      <th>Back_NRIC</th>\n    </tr>\n  </thead>\n  <tbody>\n    <tr>\n      <th>0</th>\n      <td>48, JLN 8/7, PUNCAK SEPUTEH, 79328 JEMENTAH, J...</td>\n      <td>NUR NOORFARZANAH BINTI WAN FADZIRUDDIN DOLKEFLI</td>\n      <td>PEREMPUAN</td>\n      <td>ISLAM</td>\n      <td>860903-13-2306</td>\n      <td>860903-13-2306-02-01</td>\n    </tr>\n    <tr>\n      <th>1</th>\n      <td>LOT 9, JALAN 6J, PJS33, 15958 RANTAU PANJANG, ...</td>\n      <td>NUR HJH SUHANA BINTI NIK KAMARUDIN HASIF</td>\n      <td>PEREMPUAN</td>\n      <td>ISLAM</td>\n      <td>780716-29-7456</td>\n      <td>780716-29-7456-06-01</td>\n    </tr>\n    <tr>\n      <th>2</th>\n      <td>G-42-10, JLN 1/76D, DESA GEMBIRA, 93888 DARO, ...</td>\n      <td>D. S. ASH</td>\n      <td>LELAKI</td>\n      <td>NaN</td>\n      <td>930108-03-9789</td>\n      <td>930108-03-9789-00-01</td>\n    </tr>\n    <tr>\n      <th>3</th>\n      <td>LOT 31, JALAN 4/4Y, USJ 85, 77198 TANJUNG BIDA...</td>\n      <td>MUHAMMED NIK BASIRAN KASTURI BIN SARWATI GARAPAR</td>\n      <td>LELAKI</td>\n      <td>ISLAM</td>\n      <td>760305-34-9365</td>\n      <td>760305-34-9365-04-01</td>\n    </tr>\n    <tr>\n      <th>4</th>\n      <td>NO. L-31-45, JALAN 8Z, BANDAR MULIA, 87025 BAT...</td>\n      <td>ANAND A/P KUNJIRAMAN SEENIVASAGAM</td>\n      <td>PEREMPUAN</td>\n      <td>NaN</td>\n      <td>731216-30-8010</td>\n      <td>731216-30-8010-02-01</td>\n    </tr>\n    <tr>\n      <th>5</th>\n      <td>95, LORONG 5, PANDAN MUTIARA, 82393 PARIT JAWA...</td>\n      <td>CHIANG QING SHOK</td>\n      <td>PEREMPUAN</td>\n      <td>NaN</td>\n      <td>811202-22-1740</td>\n      <td>811202-22-1740-00-01</td>\n    </tr>\n    <tr>\n      <th>6</th>\n      <td>NO. 2-1, JLN 3, APARTMENT BANGSAR, 08894 YAN, ...</td>\n      <td>CHA QUAY MON</td>\n      <td>LELAKI</td>\n      <td>NaN</td>\n      <td>760619-04-8031</td>\n      <td>760619-04-8031-04-01</td>\n    </tr>\n    <tr>\n      <th>7</th>\n      <td>NO. 3, JALAN SENTUL 1/10K, PJS7, 20387 KAMPUNG...</td>\n      <td>SAU KHOO LER</td>\n      <td>PEREMPUAN</td>\n      <td>NaN</td>\n      <td>750918-40-5378</td>\n      <td>750918-40-5378-08-01</td>\n    </tr>\n    <tr>\n      <th>8</th>\n      <td>5K-71, JALAN DORAISAMY 2/24, PETALING PERMAI, ...</td>\n      <td>DEPAN RAMADASS A/L VIJANDREN PAKIAM</td>\n      <td>LELAKI</td>\n      <td>NaN</td>\n      <td>981001-39-5857</td>\n      <td>981001-39-5857-08-01</td>\n    </tr>\n    <tr>\n      <th>9</th>\n      <td>13, JALAN SELAMAT 5/5, TAMAN RAHMAT, 28643 MEN...</td>\n      <td>MUHAMED NIK AMRI BIN HASBI</td>\n      <td>LELAKI</td>\n      <td>ISLAM</td>\n      <td>710502-12-5811</td>\n      <td>710502-12-5811-06-01</td>\n    </tr>\n  </tbody>\n</table>\n</div>"
     },
     "metadata": {},
     "execution_count": 50
    }
   ],
   "source": [
    "completeData = pd.read_csv(\"IC_data_with_NRIC_fixed_gender_12000_rows.csv\")\n",
    "completeData.head(10)"
   ]
  },
  {
   "cell_type": "code",
   "execution_count": 53,
   "metadata": {},
   "outputs": [
    {
     "output_type": "execute_result",
     "data": {
      "text/plain": "False"
     },
     "metadata": {},
     "execution_count": 53
    }
   ],
   "source": [
    "completeData.duplicated().any()"
   ]
  },
  {
   "cell_type": "code",
   "execution_count": null,
   "metadata": {},
   "outputs": [],
   "source": []
  }
 ],
 "metadata": {
  "kernelspec": {
   "display_name": "Python 3",
   "language": "python",
   "name": "python3"
  },
  "language_info": {
   "codemirror_mode": {
    "name": "ipython",
    "version": 3
   },
   "file_extension": ".py",
   "mimetype": "text/x-python",
   "name": "python",
   "nbconvert_exporter": "python",
   "pygments_lexer": "ipython3",
   "version": "3.8.5-final"
  }
 },
 "nbformat": 4,
 "nbformat_minor": 4
}